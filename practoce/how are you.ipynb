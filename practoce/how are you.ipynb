{
 "cells": [
  {
   "cell_type": "code",
   "execution_count": 1,
   "metadata": {},
   "outputs": [
    {
     "name": "stdout",
     "output_type": "stream",
     "text": [
      "hello world!\n"
     ]
    }
   ],
   "source": [
    "print(\"hello world!\")"
   ]
  },
  {
   "cell_type": "code",
   "execution_count": 6,
   "metadata": {},
   "outputs": [
    {
     "name": "stdout",
     "output_type": "stream",
     "text": [
      "Three number plus together are : 69\n"
     ]
    }
   ],
   "source": [
    "# 三數總和 ， eval是可以放進 小數(float) 和 整數(int)\n",
    "Num = 0 \n",
    "NUM = eval (input(\"First Number\"))\n",
    "Num+= NUM\n",
    "NUM = eval (input(\"Second Number\"))\n",
    "Num += NUM\n",
    "NUM = eval (input(\"Third Number\"))\n",
    "Num += NUM\n",
    "print(f\"Three number plus together are : {Num}\")"
   ]
  },
  {
   "cell_type": "code",
   "execution_count": 13,
   "metadata": {},
   "outputs": [
    {
     "name": "stdout",
     "output_type": "stream",
     "text": [
      "Student Score Is:69\n"
     ]
    }
   ],
   "source": [
    "#學生總分為300\n",
    "#有些學生可以加分5%\n",
    "#如果加分超過300,就以300分為準\n",
    "score = int(input(\"Student Score:\"))\n",
    "if score <= 300:\n",
    "    add_SCORE = input(\"Can Student Plus Score?(y,n)\")\n",
    "    if (add_SCORE == \"y\"):\n",
    "        score *= 1.05\n",
    "        if score > 300:\n",
    "            score = 300\n",
    "    print(f\"Student Score Is:{round(score)}\")\n",
    "else:\n",
    "    print(\"Score Can't Higher Than 300.\")"
   ]
  },
  {
   "cell_type": "code",
   "execution_count": 28,
   "metadata": {},
   "outputs": [
    {
     "name": "stdout",
     "output_type": "stream",
     "text": [
      "Start Number:22\n",
      "Done Numeber:24\n",
      "From 22 To 24 Total is: 69\n"
     ]
    }
   ],
   "source": [
    "import pyinputplus as pyip\n",
    "startNum = pyip.inputInt(\"Start Number:\")\n",
    "print(startNum)\n",
    "doneNum = pyip.inputInt(\"Done Numeber:\")\n",
    "print(doneNum)\n",
    "value = 0\n",
    "for t in range(startNum,doneNum+1):\n",
    "    value += t\n",
    "print(f\"From {startNum} To {doneNum} Total is: {value}\")"
   ]
  },
  {
   "cell_type": "code",
   "execution_count": 29,
   "metadata": {},
   "outputs": [
    {
     "name": "stdout",
     "output_type": "stream",
     "text": [
      "55\n"
     ]
    }
   ],
   "source": [
    "value = 0\n",
    "i = 1\n",
    "while i<= 10:\n",
    "    value += i\n",
    "    i+= 1\n",
    "print(value)"
   ]
  },
  {
   "cell_type": "code",
   "execution_count": 3,
   "metadata": {},
   "outputs": [
    {
     "name": "stdout",
     "output_type": "stream",
     "text": [
      "Type Number 1 Month Deposit:100000\n",
      "Congratulations! You Can Buy A Motorcycle! You Deposit 1 Month, Total Deposit Are: 100000 Dollar.\n"
     ]
    }
   ],
   "source": [
    "import pyinputplus as pyip\n",
    "deposit = 0\n",
    "month = 0\n",
    "while deposit < 100000:\n",
    "    month += 1\n",
    "    money_month = pyip.inputInt(f\"Type Number {month} Month Deposit:\")\n",
    "    print(money_month)\n",
    "    deposit += money_month\n",
    "print(f\"Congratulations! You Can Buy A Motorcycle! You Deposit {month} Month, Total Deposit Are: {deposit} Dollar.\")"
   ]
  },
  {
   "cell_type": "code",
   "execution_count": 4,
   "metadata": {},
   "outputs": [
    {
     "name": "stdout",
     "output_type": "stream",
     "text": [
      "Pls Type Int.[Press q Will Leave]:5 Square Is 25.\n",
      "Pls Type Int.[Press q Will Leave]:End Program.\n"
     ]
    }
   ],
   "source": [
    "import pyinputplus as pyip\n",
    "while(True):\n",
    "    stuff = pyip.inputStr(\"Pls Type Int.[Press q Will Leave]:\")\n",
    "    if stuff == 'q':\n",
    "        break\n",
    "    try:\n",
    "        stuffInt = int(stuff)\n",
    "    except:\n",
    "        print(f\"Wrong Format.\")\n",
    "        continue\n",
    "    if stuffInt %2 == 1:\n",
    "        print(f\"{stuffInt} Square Is {stuffInt ** 2}.\")\n",
    "    else:\n",
    "        print(\"Nothing To Do.\")\n",
    "print(\"End Program.\")"
   ]
  }
 ],
 "metadata": {
  "kernelspec": {
   "display_name": "Python 3",
   "language": "python",
   "name": "python3"
  },
  "language_info": {
   "codemirror_mode": {
    "name": "ipython",
    "version": 3
   },
   "file_extension": ".py",
   "mimetype": "text/x-python",
   "name": "python",
   "nbconvert_exporter": "python",
   "pygments_lexer": "ipython3",
   "version": "3.10.13"
  }
 },
 "nbformat": 4,
 "nbformat_minor": 2
}
