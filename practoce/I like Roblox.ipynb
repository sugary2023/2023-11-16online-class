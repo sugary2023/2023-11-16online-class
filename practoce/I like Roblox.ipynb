{
 "cells": [
  {
   "cell_type": "code",
   "execution_count": 3,
   "metadata": {},
   "outputs": [
    {
     "name": "stdout",
     "output_type": "stream",
     "text": [
      "Pls Put The Radius:5.0\n",
      "Radius Is 5.0, Graden Area Is 78.53981633974483.\n"
     ]
    }
   ],
   "source": [
    "import math\n",
    "import pyinputplus as pyip\n",
    "def circle__area(radius):\n",
    "    area = radius ** 2 * math.pi\n",
    "    return area\n",
    "radius = pyip.inputFloat(\"Pls Put The Radius:\")\n",
    "print(radius)\n",
    "area = circle__area(radius)\n",
    "print(f\"Radius Is {radius}, Graden Area Is {area}.\")"
   ]
  },
  {
   "cell_type": "code",
   "execution_count": 6,
   "metadata": {},
   "outputs": [
    {
     "data": {
      "text/plain": [
       "33.0"
      ]
     },
     "execution_count": 6,
     "metadata": {},
     "output_type": "execute_result"
    }
   ],
   "source": [
    "def area(top,bottom,height):\n",
    "    return(top + bottom) * height / 2\n",
    "area(3.3,8.7,5.5) or area(top =3.3,bottom=8.7,height=5.5) or area(3.3,bottom=8.7,height=5.5)"
   ]
  }
 ],
 "metadata": {
  "kernelspec": {
   "display_name": "Python 3",
   "language": "python",
   "name": "python3"
  },
  "language_info": {
   "codemirror_mode": {
    "name": "ipython",
    "version": 3
   },
   "file_extension": ".py",
   "mimetype": "text/x-python",
   "name": "python",
   "nbconvert_exporter": "python",
   "pygments_lexer": "ipython3",
   "version": "3.10.13"
  }
 },
 "nbformat": 4,
 "nbformat_minor": 2
}
