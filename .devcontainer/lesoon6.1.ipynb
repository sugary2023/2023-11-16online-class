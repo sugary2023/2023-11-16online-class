{
 "cells": [
  {
   "cell_type": "code",
   "execution_count": 2,
   "metadata": {},
   "outputs": [
    {
     "name": "stdout",
     "output_type": "stream",
     "text": [
      "1+到10的加總是55\n"
     ]
    }
   ],
   "source": [
    "value = 0\n",
    "value += 1 \n",
    "value += 2\n",
    "value += 3 \n",
    "value += 4 \n",
    "value += 5\n",
    "value += 6 \n",
    "value += 7\n",
    "value += 8 \n",
    "value += 9\n",
    "value += 10\n",
    "print(f\"1+到10的加總是{value}\") "
   ]
  },
  {
   "cell_type": "code",
   "execution_count": 17,
   "metadata": {},
   "outputs": [
    {
     "name": "stdout",
     "output_type": "stream",
     "text": [
      "1+到10的加總是55\n"
     ]
    }
   ],
   "source": [
    "value = 0\n",
    "for i in range(1  ,11):\n",
    "    value+= i\n",
    "print(f\"1+到10的加總是{value}\") "
   ]
  },
  {
   "cell_type": "code",
   "execution_count": 19,
   "metadata": {},
   "outputs": [
    {
     "name": "stdout",
     "output_type": "stream",
     "text": [
      "請輸入起始值:15\n",
      "請輸入結束值:75\n",
      "從15至75的加總是2745\n"
     ]
    }
   ],
   "source": [
    "import pyinputplus as pyip\n",
    "start = pyip.inputInt(\"請輸入起始值:\")\n",
    "print(start)\n",
    "done= pyip.inputInt(\"請輸入結束值:\")\n",
    "print(done)\n",
    "value = 0\n",
    "for t in range(start,done+1):\n",
    "    value += t\n",
    "print(f\"從{start}至{done}的加總是{value}\") "
   ]
  },
  {
   "cell_type": "code",
   "execution_count": 23,
   "metadata": {},
   "outputs": [
    {
     "name": "stdout",
     "output_type": "stream",
     "text": [
      "i=10\n",
      "t=1 t=2 t=3 t=4 t=5 t=6 t=7 t=8 t=9 \n",
      "======\n",
      "i=10\n",
      "t=1 t=2 t=3 t=4 t=5 t=6 t=7 t=8 t=9 \n",
      "======\n",
      "i=10\n",
      "t=1 t=2 t=3 t=4 t=5 t=6 t=7 t=8 t=9 \n",
      "======\n",
      "i=10\n",
      "t=1 t=2 t=3 t=4 t=5 t=6 t=7 t=8 t=9 \n",
      "======\n",
      "i=10\n",
      "t=1 t=2 t=3 t=4 t=5 t=6 t=7 t=8 t=9 \n",
      "======\n",
      "i=10\n",
      "t=1 t=2 t=3 t=4 t=5 t=6 t=7 t=8 t=9 \n",
      "======\n",
      "i=10\n",
      "t=1 t=2 t=3 t=4 t=5 t=6 t=7 t=8 t=9 \n",
      "======\n",
      "i=10\n",
      "t=1 t=2 t=3 t=4 t=5 t=6 t=7 t=8 t=9 \n",
      "======\n",
      "i=10\n",
      "t=1 t=2 t=3 t=4 t=5 t=6 t=7 t=8 t=9 \n",
      "======\n"
     ]
    }
   ],
   "source": [
    "for y in range(1 , 10):\n",
    "    print(f\"i={i}\")\n",
    "    for t in range(1, 10) :\n",
    "        print(f\"t={t}\",end=' ')\n",
    "    print()    \n",
    "    print(\"======\") "
   ]
  }
 ],
 "metadata": {
  "kernelspec": {
   "display_name": "Python 3",
   "language": "python",
   "name": "python3"
  },
  "language_info": {
   "codemirror_mode": {
    "name": "ipython",
    "version": 3
   },
   "file_extension": ".py",
   "mimetype": "text/x-python",
   "name": "python",
   "nbconvert_exporter": "python",
   "pygments_lexer": "ipython3",
   "version": "3.10.13"
  }
 },
 "nbformat": 4,
 "nbformat_minor": 2
}
