{
 "cells": [
  {
   "cell_type": "code",
   "execution_count": 2,
   "metadata": {},
   "outputs": [
    {
     "name": "stdout",
     "output_type": "stream",
     "text": [
      "1+到10的加總是55\n"
     ]
    }
   ],
   "source": [
    "value = 0\n",
    "value += 1 \n",
    "value += 2\n",
    "value += 3 \n",
    "value += 4 \n",
    "value += 5\n",
    "value += 6 \n",
    "value += 7\n",
    "value += 8 \n",
    "value += 9\n",
    "value += 10\n",
    "print(f\"1+到10的加總是{value}\") "
   ]
  },
  {
   "cell_type": "code",
   "execution_count": 17,
   "metadata": {},
   "outputs": [
    {
     "name": "stdout",
     "output_type": "stream",
     "text": [
      "1+到10的加總是55\n"
     ]
    }
   ],
   "source": [
    "value = 0\n",
    "for i in range(1  ,11):\n",
    "    value+= i\n",
    "print(f\"1+到10的加總是{value}\") "
   ]
  },
  {
   "cell_type": "code",
   "execution_count": 19,
   "metadata": {},
   "outputs": [
    {
     "name": "stdout",
     "output_type": "stream",
     "text": [
      "請輸入起始值:15\n",
      "請輸入結束值:75\n",
      "從15至75的加總是2745\n"
     ]
    }
   ],
   "source": [
    "import pyinputplus as pyip\n",
    "start = pyip.inputInt(\"請輸入起始值:\")\n",
    "print(start)\n",
    "done= pyip.inputInt(\"請輸入結束值:\")\n",
    "print(done)\n",
    "value = 0\n",
    "for t in range(start,done+1):\n",
    "    value += t\n",
    "print(f\"從{start}至{done}的加總是{value}\") "
   ]
  },
  {
   "cell_type": "code",
   "execution_count": 23,
   "metadata": {},
   "outputs": [
    {
     "name": "stdout",
     "output_type": "stream",
     "text": [
      "i=10\n",
      "t=1 t=2 t=3 t=4 t=5 t=6 t=7 t=8 t=9 \n",
      "======\n",
      "i=10\n",
      "t=1 t=2 t=3 t=4 t=5 t=6 t=7 t=8 t=9 \n",
      "======\n",
      "i=10\n",
      "t=1 t=2 t=3 t=4 t=5 t=6 t=7 t=8 t=9 \n",
      "======\n",
      "i=10\n",
      "t=1 t=2 t=3 t=4 t=5 t=6 t=7 t=8 t=9 \n",
      "======\n",
      "i=10\n",
      "t=1 t=2 t=3 t=4 t=5 t=6 t=7 t=8 t=9 \n",
      "======\n",
      "i=10\n",
      "t=1 t=2 t=3 t=4 t=5 t=6 t=7 t=8 t=9 \n",
      "======\n",
      "i=10\n",
      "t=1 t=2 t=3 t=4 t=5 t=6 t=7 t=8 t=9 \n",
      "======\n",
      "i=10\n",
      "t=1 t=2 t=3 t=4 t=5 t=6 t=7 t=8 t=9 \n",
      "======\n",
      "i=10\n",
      "t=1 t=2 t=3 t=4 t=5 t=6 t=7 t=8 t=9 \n",
      "======\n"
     ]
    }
   ],
   "source": [
    "for y in range(1 , 10):\n",
    "    print(f\"i={i}\")\n",
    "    for t in range(1, 10) :\n",
    "        print(f\"t={t}\",end=' ')\n",
    "    print()    \n",
    "    print(\"======\") "
   ]
  },
  {
   "cell_type": "code",
   "execution_count": 26,
   "metadata": {},
   "outputs": [
    {
     "name": "stdout",
     "output_type": "stream",
     "text": [
      "1*1=1\t1*2=2\t1*3=3\t1*4=4\t1*5=5\t1*6=6\t1*7=7\t1*8=8\t1*9=9\t\n",
      "2*1=2\t2*2=4\t2*3=6\t2*4=8\t2*5=10\t2*6=12\t2*7=14\t2*8=16\t2*9=18\t\n",
      "3*1=3\t3*2=6\t3*3=9\t3*4=12\t3*5=15\t3*6=18\t3*7=21\t3*8=24\t3*9=27\t\n",
      "4*1=4\t4*2=8\t4*3=12\t4*4=16\t4*5=20\t4*6=24\t4*7=28\t4*8=32\t4*9=36\t\n",
      "5*1=5\t5*2=10\t5*3=15\t5*4=20\t5*5=25\t5*6=30\t5*7=35\t5*8=40\t5*9=45\t\n",
      "6*1=6\t6*2=12\t6*3=18\t6*4=24\t6*5=30\t6*6=36\t6*7=42\t6*8=48\t6*9=54\t\n",
      "7*1=7\t7*2=14\t7*3=21\t7*4=28\t7*5=35\t7*6=42\t7*7=49\t7*8=56\t7*9=63\t\n",
      "8*1=8\t8*2=16\t8*3=24\t8*4=32\t8*5=40\t8*6=48\t8*7=56\t8*8=64\t8*9=72\t\n",
      "9*1=9\t9*2=18\t9*3=27\t9*4=36\t9*5=45\t9*6=54\t9*7=63\t9*8=72\t9*9=81\t\n"
     ]
    }
   ],
   "source": [
    "for r in range(1 , 10):\n",
    "    for e in range(1, 10):\n",
    "        print(f\"{r}*{e}={r * e}\",end=\"\\t\")\n",
    "    print()    "
   ]
  },
  {
   "cell_type": "code",
   "execution_count": 24,
   "metadata": {},
   "outputs": [
    {
     "name": "stdout",
     "output_type": "stream",
     "text": [
      "2 x 1 = 2\t3 x 1 = 3\t4 x 1 = 4\t5 x 1 = 5\t6 x 1 = 6\t7 x 1 = 7\t8 x 1 = 8\t9 x 1 = 9\t10 x 1 = 10\t11 x 1 = 11\t12 x 1 = 12\t13 x 1 = 13\t14 x 1 = 14\t15 x 1 = 15\t16 x 1 = 16\t17 x 1 = 17\t18 x 1 = 18\t19 x 1 = 19\t\n",
      "2 x 2 = 4\t3 x 2 = 6\t4 x 2 = 8\t5 x 2 = 10\t6 x 2 = 12\t7 x 2 = 14\t8 x 2 = 16\t9 x 2 = 18\t10 x 2 = 20\t11 x 2 = 22\t12 x 2 = 24\t13 x 2 = 26\t14 x 2 = 28\t15 x 2 = 30\t16 x 2 = 32\t17 x 2 = 34\t18 x 2 = 36\t19 x 2 = 38\t\n",
      "2 x 3 = 6\t3 x 3 = 9\t4 x 3 = 12\t5 x 3 = 15\t6 x 3 = 18\t7 x 3 = 21\t8 x 3 = 24\t9 x 3 = 27\t10 x 3 = 30\t11 x 3 = 33\t12 x 3 = 36\t13 x 3 = 39\t14 x 3 = 42\t15 x 3 = 45\t16 x 3 = 48\t17 x 3 = 51\t18 x 3 = 54\t19 x 3 = 57\t\n",
      "2 x 4 = 8\t3 x 4 = 12\t4 x 4 = 16\t5 x 4 = 20\t6 x 4 = 24\t7 x 4 = 28\t8 x 4 = 32\t9 x 4 = 36\t10 x 4 = 40\t11 x 4 = 44\t12 x 4 = 48\t13 x 4 = 52\t14 x 4 = 56\t15 x 4 = 60\t16 x 4 = 64\t17 x 4 = 68\t18 x 4 = 72\t19 x 4 = 76\t\n",
      "2 x 5 = 10\t3 x 5 = 15\t4 x 5 = 20\t5 x 5 = 25\t6 x 5 = 30\t7 x 5 = 35\t8 x 5 = 40\t9 x 5 = 45\t10 x 5 = 50\t11 x 5 = 55\t12 x 5 = 60\t13 x 5 = 65\t14 x 5 = 70\t15 x 5 = 75\t16 x 5 = 80\t17 x 5 = 85\t18 x 5 = 90\t19 x 5 = 95\t\n",
      "2 x 6 = 12\t3 x 6 = 18\t4 x 6 = 24\t5 x 6 = 30\t6 x 6 = 36\t7 x 6 = 42\t8 x 6 = 48\t9 x 6 = 54\t10 x 6 = 60\t11 x 6 = 66\t12 x 6 = 72\t13 x 6 = 78\t14 x 6 = 84\t15 x 6 = 90\t16 x 6 = 96\t17 x 6 = 102\t18 x 6 = 108\t19 x 6 = 114\t\n",
      "2 x 7 = 14\t3 x 7 = 21\t4 x 7 = 28\t5 x 7 = 35\t6 x 7 = 42\t7 x 7 = 49\t8 x 7 = 56\t9 x 7 = 63\t10 x 7 = 70\t11 x 7 = 77\t12 x 7 = 84\t13 x 7 = 91\t14 x 7 = 98\t15 x 7 = 105\t16 x 7 = 112\t17 x 7 = 119\t18 x 7 = 126\t19 x 7 = 133\t\n",
      "2 x 8 = 16\t3 x 8 = 24\t4 x 8 = 32\t5 x 8 = 40\t6 x 8 = 48\t7 x 8 = 56\t8 x 8 = 64\t9 x 8 = 72\t10 x 8 = 80\t11 x 8 = 88\t12 x 8 = 96\t13 x 8 = 104\t14 x 8 = 112\t15 x 8 = 120\t16 x 8 = 128\t17 x 8 = 136\t18 x 8 = 144\t19 x 8 = 152\t\n",
      "2 x 9 = 18\t3 x 9 = 27\t4 x 9 = 36\t5 x 9 = 45\t6 x 9 = 54\t7 x 9 = 63\t8 x 9 = 72\t9 x 9 = 81\t10 x 9 = 90\t11 x 9 = 99\t12 x 9 = 108\t13 x 9 = 117\t14 x 9 = 126\t15 x 9 = 135\t16 x 9 = 144\t17 x 9 = 153\t18 x 9 = 162\t19 x 9 = 171\t\n",
      "2 x 10 = 20\t3 x 10 = 30\t4 x 10 = 40\t5 x 10 = 50\t6 x 10 = 60\t7 x 10 = 70\t8 x 10 = 80\t9 x 10 = 90\t10 x 10 = 100\t11 x 10 = 110\t12 x 10 = 120\t13 x 10 = 130\t14 x 10 = 140\t15 x 10 = 150\t16 x 10 = 160\t17 x 10 = 170\t18 x 10 = 180\t19 x 10 = 190\t\n",
      "2 x 11 = 22\t3 x 11 = 33\t4 x 11 = 44\t5 x 11 = 55\t6 x 11 = 66\t7 x 11 = 77\t8 x 11 = 88\t9 x 11 = 99\t10 x 11 = 110\t11 x 11 = 121\t12 x 11 = 132\t13 x 11 = 143\t14 x 11 = 154\t15 x 11 = 165\t16 x 11 = 176\t17 x 11 = 187\t18 x 11 = 198\t19 x 11 = 209\t\n",
      "2 x 12 = 24\t3 x 12 = 36\t4 x 12 = 48\t5 x 12 = 60\t6 x 12 = 72\t7 x 12 = 84\t8 x 12 = 96\t9 x 12 = 108\t10 x 12 = 120\t11 x 12 = 132\t12 x 12 = 144\t13 x 12 = 156\t14 x 12 = 168\t15 x 12 = 180\t16 x 12 = 192\t17 x 12 = 204\t18 x 12 = 216\t19 x 12 = 228\t\n",
      "2 x 13 = 26\t3 x 13 = 39\t4 x 13 = 52\t5 x 13 = 65\t6 x 13 = 78\t7 x 13 = 91\t8 x 13 = 104\t9 x 13 = 117\t10 x 13 = 130\t11 x 13 = 143\t12 x 13 = 156\t13 x 13 = 169\t14 x 13 = 182\t15 x 13 = 195\t16 x 13 = 208\t17 x 13 = 221\t18 x 13 = 234\t19 x 13 = 247\t\n",
      "2 x 14 = 28\t3 x 14 = 42\t4 x 14 = 56\t5 x 14 = 70\t6 x 14 = 84\t7 x 14 = 98\t8 x 14 = 112\t9 x 14 = 126\t10 x 14 = 140\t11 x 14 = 154\t12 x 14 = 168\t13 x 14 = 182\t14 x 14 = 196\t15 x 14 = 210\t16 x 14 = 224\t17 x 14 = 238\t18 x 14 = 252\t19 x 14 = 266\t\n",
      "2 x 15 = 30\t3 x 15 = 45\t4 x 15 = 60\t5 x 15 = 75\t6 x 15 = 90\t7 x 15 = 105\t8 x 15 = 120\t9 x 15 = 135\t10 x 15 = 150\t11 x 15 = 165\t12 x 15 = 180\t13 x 15 = 195\t14 x 15 = 210\t15 x 15 = 225\t16 x 15 = 240\t17 x 15 = 255\t18 x 15 = 270\t19 x 15 = 285\t\n",
      "2 x 16 = 32\t3 x 16 = 48\t4 x 16 = 64\t5 x 16 = 80\t6 x 16 = 96\t7 x 16 = 112\t8 x 16 = 128\t9 x 16 = 144\t10 x 16 = 160\t11 x 16 = 176\t12 x 16 = 192\t13 x 16 = 208\t14 x 16 = 224\t15 x 16 = 240\t16 x 16 = 256\t17 x 16 = 272\t18 x 16 = 288\t19 x 16 = 304\t\n",
      "2 x 17 = 34\t3 x 17 = 51\t4 x 17 = 68\t5 x 17 = 85\t6 x 17 = 102\t7 x 17 = 119\t8 x 17 = 136\t9 x 17 = 153\t10 x 17 = 170\t11 x 17 = 187\t12 x 17 = 204\t13 x 17 = 221\t14 x 17 = 238\t15 x 17 = 255\t16 x 17 = 272\t17 x 17 = 289\t18 x 17 = 306\t19 x 17 = 323\t\n",
      "2 x 18 = 36\t3 x 18 = 54\t4 x 18 = 72\t5 x 18 = 90\t6 x 18 = 108\t7 x 18 = 126\t8 x 18 = 144\t9 x 18 = 162\t10 x 18 = 180\t11 x 18 = 198\t12 x 18 = 216\t13 x 18 = 234\t14 x 18 = 252\t15 x 18 = 270\t16 x 18 = 288\t17 x 18 = 306\t18 x 18 = 324\t19 x 18 = 342\t\n",
      "2 x 19 = 38\t3 x 19 = 57\t4 x 19 = 76\t5 x 19 = 95\t6 x 19 = 114\t7 x 19 = 133\t8 x 19 = 152\t9 x 19 = 171\t10 x 19 = 190\t11 x 19 = 209\t12 x 19 = 228\t13 x 19 = 247\t14 x 19 = 266\t15 x 19 = 285\t16 x 19 = 304\t17 x 19 = 323\t18 x 19 = 342\t19 x 19 = 361\t\n"
     ]
    }
   ],
   "source": [
    "for i in range(1, 20):\n",
    "  for k in range (2, 20):\n",
    "\n",
    "    print(k,'x',i,'=',k*i,end='\\t')\n",
    "  print()\n"
   ]
  }
 ],
 "metadata": {
  "kernelspec": {
   "display_name": "Python 3",
   "language": "python",
   "name": "python3"
  },
  "language_info": {
   "codemirror_mode": {
    "name": "ipython",
    "version": 3
   },
   "file_extension": ".py",
   "mimetype": "text/x-python",
   "name": "python",
   "nbconvert_exporter": "python",
   "pygments_lexer": "ipython3",
   "version": "3.10.13"
  }
 },
 "nbformat": 4,
 "nbformat_minor": 2
}
