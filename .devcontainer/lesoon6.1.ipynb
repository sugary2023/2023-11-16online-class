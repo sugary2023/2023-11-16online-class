{
 "cells": [
  {
   "cell_type": "code",
   "execution_count": 2,
   "metadata": {},
   "outputs": [
    {
     "name": "stdout",
     "output_type": "stream",
     "text": [
      "1+到10的加總是55\n"
     ]
    }
   ],
   "source": [
    "value = 0\n",
    "value += 1 \n",
    "value += 2\n",
    "value += 3 \n",
    "value += 4 \n",
    "value += 5\n",
    "value += 6 \n",
    "value += 7\n",
    "value += 8 \n",
    "value += 9\n",
    "value += 10\n",
    "print(f\"1+到10的加總是{value}\") "
   ]
  },
  {
   "cell_type": "code",
   "execution_count": 17,
   "metadata": {},
   "outputs": [
    {
     "name": "stdout",
     "output_type": "stream",
     "text": [
      "1+到10的加總是55\n"
     ]
    }
   ],
   "source": [
    "value = 0\n",
    "for i in range(1  ,11):\n",
    "    value+= i\n",
    "print(f\"1+到10的加總是{value}\") "
   ]
  }
 ],
 "metadata": {
  "kernelspec": {
   "display_name": "Python 3",
   "language": "python",
   "name": "python3"
  },
  "language_info": {
   "codemirror_mode": {
    "name": "ipython",
    "version": 3
   },
   "file_extension": ".py",
   "mimetype": "text/x-python",
   "name": "python",
   "nbconvert_exporter": "python",
   "pygments_lexer": "ipython3",
   "version": "3.10.13"
  }
 },
 "nbformat": 4,
 "nbformat_minor": 2
}
