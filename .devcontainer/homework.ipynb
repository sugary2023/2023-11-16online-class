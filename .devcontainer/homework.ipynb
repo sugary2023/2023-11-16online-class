{
 "cells": [
  {
   "cell_type": "code",
   "execution_count": 7,
   "metadata": {},
   "outputs": [
    {
     "name": "stdout",
     "output_type": "stream",
     "text": [
      "購買金額:20000\n",
      "打折後的金額是:19000.0\n"
     ]
    }
   ],
   "source": [
    "#周年慶\n",
    "import pyinputplus as pyip\n",
    "price = pyip.inputInt(\"購買金額:\",min=0)\n",
    "print(price)\n",
    "if price >= 100000:\n",
    "    price *= 0.8      #打八折\n",
    "elif price >= 50000:\n",
    "    price *= 0.85     #打八五折\n",
    "elif price >= 30000 :\n",
    "    price *= 0.9      #打九折\n",
    "elif price >= 10000:\n",
    "    price *= 0.95     #打九五折\n",
    "else:\n",
    "    print(\"the price is to low , don't have dicount\")    \n",
    "print(f\"打折後的金額是:{(price)}\")       "
   ]
  },
  {
   "cell_type": "code",
   "execution_count": 1,
   "metadata": {},
   "outputs": [
    {
     "name": "stdout",
     "output_type": "stream",
     "text": [
      "85\n",
      "==========猜數字遊戲============\n",
      "猜數字範圍1~100:50\n",
      "再大一點\n",
      "您已經猜了1次\n",
      "=================\n",
      "猜數字範圍51~100:89\n",
      "再小一點\n",
      "您已經猜了2次\n",
      "=================\n",
      "猜數字範圍51~88:80\n",
      "再大一點\n",
      "您已經猜了3次\n",
      "=================\n",
      "猜數字範圍81~88:87\n",
      "再小一點\n",
      "您已經猜了4次\n",
      "=================\n",
      "猜數字範圍81~86:85\n",
      "賓果!猜對了,答案是:85\n",
      "您猜了5次\n",
      "請問還要繼續嗎?(y,n)遊戲結束\n"
     ]
    }
   ],
   "source": [
    "#function 代表功能\n",
    "#可以邏輯思考變簡單\n",
    "import pyinputplus as pyip\n",
    "import random\n",
    "\n",
    "def playGame():\n",
    "    min = 1\n",
    "    max = 100\n",
    "    count = 0\n",
    "    random_number = random.randint(min,max)\n",
    "    print(random_number)\n",
    "    print(\"==========猜數字遊戲============\")\n",
    "    while True:\n",
    "        keyin = pyip.inputInt(f\"猜數字範圍{min}~{max}:\")\n",
    "        count += 1\n",
    "        print(keyin)\n",
    "        if keyin == random_number:\n",
    "            print(f\"賓果!猜對了,答案是:{random_number}\")\n",
    "            print(f\"您猜了{count}次\")\n",
    "            break\n",
    "        elif keyin > random_number:\n",
    "            print(\"再小一點\")\n",
    "            max = keyin - 1\n",
    "        elif keyin < random_number:\n",
    "            print(\"再大一點\")\n",
    "            min = keyin + 1\n",
    "        print(f\"您已經猜了{count}次\")\n",
    "        print(\"=================\")\n",
    "\n",
    "while(True):\n",
    "    playGame()\n",
    "    is_continue = pyip.inputYesNo(\"請問還要繼續嗎?(y,n)\")\n",
    "    if is_continue != \"yes\":\n",
    "        break\n",
    "print(\"遊戲結束\") "
   ]
  }
 ],
 "metadata": {
  "kernelspec": {
   "display_name": "Python 3",
   "language": "python",
   "name": "python3"
  },
  "language_info": {
   "codemirror_mode": {
    "name": "ipython",
    "version": 3
   },
   "file_extension": ".py",
   "mimetype": "text/x-python",
   "name": "python",
   "nbconvert_exporter": "python",
   "pygments_lexer": "ipython3",
   "version": "3.10.13"
  }
 },
 "nbformat": 4,
 "nbformat_minor": 2
}
