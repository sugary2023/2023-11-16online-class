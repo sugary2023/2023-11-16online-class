{
 "cells": [
  {
   "cell_type": "code",
   "execution_count": null,
   "metadata": {},
   "outputs": [],
   "source": [
    "import pyinputplus as pyip\n",
    "price = pyip.inputInt(\"購買金額:\",min=0)\n",
    "print(price)\n",
    "if price >= 100000:\n",
    "    price *= 0.8\n",
    "elif price >= 50000:\n",
    "    price *= 0.85\n",
    "elif price >= 30000 :\n",
    "    price *= 0.9\n",
    "elif price >= 10000:\n",
    "    price *= 0.95\n",
    "print(f\"打折後的金額是:{round(price)}\")       "
   ]
  }
 ],
 "metadata": {
  "language_info": {
   "name": "python"
  }
 },
 "nbformat": 4,
 "nbformat_minor": 2
}
