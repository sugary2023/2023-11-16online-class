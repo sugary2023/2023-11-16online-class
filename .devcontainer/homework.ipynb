{
 "cells": [
  {
   "cell_type": "code",
   "execution_count": 5,
   "metadata": {},
   "outputs": [
    {
     "name": "stdout",
     "output_type": "stream",
     "text": [
      "購買金額:130000\n",
      "打折後的金額是:104000.0\n"
     ]
    }
   ],
   "source": [
    "import pyinputplus as pyip\n",
    "price = pyip.inputInt(\"購買金額:\",min=0)\n",
    "print(price)\n",
    "if price >= 100000:\n",
    "    price *= 0.8\n",
    "elif price >= 50000:\n",
    "    price *= 0.85\n",
    "elif price >= 30000 :\n",
    "    price *= 0.9\n",
    "elif price >= 10000:\n",
    "    price *= 0.95\n",
    "print(f\"打折後的金額是:{(price)}\")       "
   ]
  },
  {
   "cell_type": "code",
   "execution_count": null,
   "metadata": {},
   "outputs": [],
   "source": [
    "import pyinputplus as pyip\n",
    "num = pyip.inputInt(\"輸入整數，求所有因數\",min=0)\n"
   ]
  }
 ],
 "metadata": {
  "kernelspec": {
   "display_name": "Python 3",
   "language": "python",
   "name": "python3"
  },
  "language_info": {
   "codemirror_mode": {
    "name": "ipython",
    "version": 3
   },
   "file_extension": ".py",
   "mimetype": "text/x-python",
   "name": "python",
   "nbconvert_exporter": "python",
   "pygments_lexer": "ipython3",
   "version": "3.10.13"
  }
 },
 "nbformat": 4,
 "nbformat_minor": 2
}
