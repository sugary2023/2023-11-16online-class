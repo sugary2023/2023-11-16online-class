{
 "cells": [
  {
   "cell_type": "code",
   "execution_count": 5,
   "metadata": {},
   "outputs": [
    {
     "name": "stdout",
     "output_type": "stream",
     "text": [
      "hello world!\n"
     ]
    }
   ],
   "source": [
    "print(\"hello world!\")"
   ]
  },
  {
   "cell_type": "code",
   "execution_count": 3,
   "metadata": {},
   "outputs": [
    {
     "name": "stdout",
     "output_type": "stream",
     "text": [
      "8\n"
     ]
    }
   ],
   "source": [
    "we = 0\n",
    "i = 1\n",
    "while i <= 10:\n",
    "    we += i\n",
    "    i += we\n",
    "print(we)    "
   ]
  },
  {
   "cell_type": "code",
   "execution_count": 3,
   "metadata": {},
   "outputs": [
    {
     "name": "stdout",
     "output_type": "stream",
     "text": [
      "輸入第1月份存款:30000\n",
      "恭喜已經存夠錢了，可以買機車了，共存了1個月總存款為:30000\n"
     ]
    }
   ],
   "source": [
    "import pyinputplus as pyip\n",
    "deposit = 0\n",
    "month = 0\n",
    "while deposit < 30000:\n",
    "    month += 1\n",
    "    money_month=pyip.inputInt(f\"輸入第{month}月份存款:\")\n",
    "    print(money_month)\n",
    "    deposit += money_month\n",
    "print(f\"恭喜已經存夠錢了，可以買機車了，共存了{month}個月總存款為:{deposit}\")    "
   ]
  },
  {
   "cell_type": "code",
   "execution_count": 11,
   "metadata": {},
   "outputs": [
    {
     "name": "stdout",
     "output_type": "stream",
     "text": [
      "請輸入小寫英文字[按q就會離開]:J\n",
      "請輸入小寫英文字[按q就會離開]:U\n",
      "請輸入小寫英文字[按q就會離開]:結束程式\n"
     ]
    }
   ],
   "source": [
    "#輸入小寫的英文字，列印出第一個大寫的英文字。\n",
    "#如果輸入q，就會離開\n",
    "import pyinputplus as pyip\n",
    "stuff = pyip.inputStr(\"請輸入小寫英文字[按q就會離開]:\")\n",
    "while(stuff != 'q'):\n",
    "    print(stuff.capitalize())\n",
    "    stuff = pyip.inputStr(\"請輸入小寫英文字[按q就會離開]:\")\n",
    "print(\"結束程式\")    "
   ]
  },
  {
   "cell_type": "code",
   "execution_count": 14,
   "metadata": {},
   "outputs": [
    {
     "name": "stdout",
     "output_type": "stream",
     "text": [
      "請輸入整數[按q就會離開]:2.3格式錯誤\n",
      "請輸入整數[按q就會離開]:不做事\n",
      "請輸入整數[按q就會離開]:5的平方是25\n",
      "請輸入整數[按q就會離開]:結束程式\n"
     ]
    }
   ],
   "source": [
    "#輸入小寫的英文字，列印出第一個大寫的英文字。\n",
    "#如果輸入q，就會離開\n",
    "import pyinputplus as pyip\n",
    "while(True):\n",
    "    stuff = pyip.inputStr(\"請輸入整數[按q就會離開]:\")\n",
    "    if stuff == 'q':\n",
    "        break\n",
    "    try:\n",
    "        stuffint = int(stuff)\n",
    "    except:\n",
    "        print(f\"{stuff}格式錯誤\")\n",
    "        continue\n",
    "    if stuffint % 2 == 1:\n",
    "        print(f\"{stuffint}的平方是{stuffint ** 2}\")\n",
    "    else:\n",
    "        print(\"不做事\")     \n",
    "print(\"結束程式\")    "
   ]
  }
 ],
 "metadata": {
  "kernelspec": {
   "display_name": "Python 3",
   "language": "python",
   "name": "python3"
  },
  "language_info": {
   "codemirror_mode": {
    "name": "ipython",
    "version": 3
   },
   "file_extension": ".py",
   "mimetype": "text/x-python",
   "name": "python",
   "nbconvert_exporter": "python",
   "pygments_lexer": "ipython3",
   "version": "3.10.13"
  }
 },
 "nbformat": 4,
 "nbformat_minor": 2
}
