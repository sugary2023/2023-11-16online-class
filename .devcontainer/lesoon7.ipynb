{
 "cells": [
  {
   "cell_type": "code",
   "execution_count": 5,
   "metadata": {},
   "outputs": [
    {
     "name": "stdout",
     "output_type": "stream",
     "text": [
      "hello world!\n"
     ]
    }
   ],
   "source": [
    "print(\"hello world!\")"
   ]
  },
  {
   "cell_type": "code",
   "execution_count": 3,
   "metadata": {},
   "outputs": [
    {
     "name": "stdout",
     "output_type": "stream",
     "text": [
      "8\n"
     ]
    }
   ],
   "source": [
    "we = 0\n",
    "i = 1\n",
    "while i <= 10:\n",
    "    we += i\n",
    "    i += we\n",
    "print(we)    "
   ]
  },
  {
   "cell_type": "code",
   "execution_count": 8,
   "metadata": {},
   "outputs": [
    {
     "name": "stdout",
     "output_type": "stream",
     "text": [
      "輸入第1月份存款:7000\n",
      "輸入第2月份存款:8000\n",
      "輸入第3月份存款:1000\n",
      "輸入第4月份存款:2000\n",
      "輸入第5月份存款:9000\n",
      "輸入第6月份存款:8000\n",
      "恭喜已經存夠錢了，共存了6個月總存款為:35000\n"
     ]
    }
   ],
   "source": [
    "import pyinputplus as pyip\n",
    "deposit = 0\n",
    "month = 0\n",
    "while deposit < 30000:\n",
    "    month += 1\n",
    "    money_month=pyip.inputInt(f\"輸入第{month}月份存款:\")\n",
    "    print(money_month)\n",
    "    deposit += money_month\n",
    "print(f\"恭喜已經存夠錢了，共存了{month}個月總存款為:{deposit}\")    "
   ]
  }
 ],
 "metadata": {
  "kernelspec": {
   "display_name": "Python 3",
   "language": "python",
   "name": "python3"
  },
  "language_info": {
   "codemirror_mode": {
    "name": "ipython",
    "version": 3
   },
   "file_extension": ".py",
   "mimetype": "text/x-python",
   "name": "python",
   "nbconvert_exporter": "python",
   "pygments_lexer": "ipython3",
   "version": "3.10.13"
  }
 },
 "nbformat": 4,
 "nbformat_minor": 2
}
