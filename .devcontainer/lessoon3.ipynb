{
 "cells": [
  {
   "cell_type": "code",
   "execution_count": 4,
   "metadata": {},
   "outputs": [
    {
     "data": {
      "text/plain": [
       "5"
      ]
     },
     "execution_count": 4,
     "metadata": {},
     "output_type": "execute_result"
    }
   ],
   "source": [
    "n = 5\n",
    "n += 5\n",
    "n"
   ]
  },
  {
   "cell_type": "code",
   "execution_count": 11,
   "metadata": {},
   "outputs": [
    {
     "data": {
      "text/plain": [
       "2.718281828459045"
      ]
     },
     "execution_count": 11,
     "metadata": {},
     "output_type": "execute_result"
    }
   ],
   "source": [
    "import math\n",
    "math.e"
   ]
  },
  {
   "cell_type": "code",
   "execution_count": 12,
   "metadata": {},
   "outputs": [
    {
     "data": {
      "text/plain": [
       "3.141592653589793"
      ]
     },
     "execution_count": 12,
     "metadata": {},
     "output_type": "execute_result"
    }
   ],
   "source": [
    "import math\n",
    "math.pi"
   ]
  },
  {
   "cell_type": "code",
   "execution_count": 6,
   "metadata": {},
   "outputs": [
    {
     "name": "stdout",
     "output_type": "stream",
     "text": [
      "three plus together is:12\n"
     ]
    }
   ],
   "source": [
    "li =0\n",
    "lol =eval (input(\"first number:\"))\n",
    "li = lol + li\n",
    "lol =eval (input(\"second number:\"))\n",
    "li = lol + li\n",
    "lol =eval (input(\"third number:\"))\n",
    "li = lol + li\n",
    "print(f\"three plus together is:{li}\")"
   ]
  },
  {
   "cell_type": "code",
   "execution_count": 8,
   "metadata": {},
   "outputs": [
    {
     "name": "stdout",
     "output_type": "stream",
     "text": [
      "three plus together is:16\n"
     ]
    }
   ],
   "source": [
    "#複合指定運算子  +=\n",
    "li =0\n",
    "lol =eval (input(\"first number:\"))\n",
    "li += lol\n",
    "lol =eval (input(\"second number:\"))\n",
    "li += lol\n",
    "lol =eval (input(\"third number:\"))\n",
    "li += lol\n",
    "print(f\"three plus together is:{li}\")"
   ]
  },
  {
   "cell_type": "code",
   "execution_count": 1,
   "metadata": {},
   "outputs": [
    {
     "name": "stdout",
     "output_type": "stream",
     "text": [
      "[5,7,9]的標準差:1.5275252316519468\n",
      "[5,6,8,9]的標準差:2.9860788111948193\n",
      "[2,5,7,9]的平均:5.75\n",
      "[1,3,6,9,]的平均:4.75\n"
     ]
    }
   ],
   "source": [
    "import statistics\n",
    "rty = statistics.stdev([6,5,8,])\n",
    "print(f'[5,7,9]的標準差:{rty}')\n",
    "yui = statistics.stdev([2,5,9,7])\n",
    "print(f'[5,6,8,9]的標準差:{yui}')\n",
    "hi = statistics.mean([2,5,7,9])\n",
    "print(f'[2,5,7,9]的平均:{hi}')\n",
    "hi1 = statistics.mean([1,3,6,9])\n",
    "print(f'[1,3,6,9,]的平均:{hi1}')"
   ]
  }
 ],
 "metadata": {
  "kernelspec": {
   "display_name": "Python 3",
   "language": "python",
   "name": "python3"
  },
  "language_info": {
   "codemirror_mode": {
    "name": "ipython",
    "version": 3
   },
   "file_extension": ".py",
   "mimetype": "text/x-python",
   "name": "python",
   "nbconvert_exporter": "python",
   "pygments_lexer": "ipython3",
   "version": "3.10.13"
  }
 },
 "nbformat": 4,
 "nbformat_minor": 2
}
