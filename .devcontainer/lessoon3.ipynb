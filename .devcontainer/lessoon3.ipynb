{
 "cells": [
  {
   "cell_type": "code",
   "execution_count": 4,
   "metadata": {},
   "outputs": [
    {
     "data": {
      "text/plain": [
       "5"
      ]
     },
     "execution_count": 4,
     "metadata": {},
     "output_type": "execute_result"
    }
   ],
   "source": [
    "n = 5\n",
    "n += 5\n",
    "n"
   ]
  },
  {
   "cell_type": "code",
   "execution_count": 6,
   "metadata": {},
   "outputs": [
    {
     "name": "stdout",
     "output_type": "stream",
     "text": [
      "three plus together is:12\n"
     ]
    }
   ],
   "source": [
    "li =0\n",
    "lol =eval (input(\"first number:\"))\n",
    "li = lol + li\n",
    "lol =eval (input(\"second number:\"))\n",
    "li = lol + li\n",
    "lol =eval (input(\"third number:\"))\n",
    "li = lol + li\n",
    "print(f\"three plus together is:{li}\")"
   ]
  },
  {
   "cell_type": "code",
   "execution_count": 8,
   "metadata": {},
   "outputs": [
    {
     "name": "stdout",
     "output_type": "stream",
     "text": [
      "three plus together is:16\n"
     ]
    }
   ],
   "source": [
    "#複合指定運算子  +=\n",
    "li =0\n",
    "lol =eval (input(\"first number:\"))\n",
    "li += lol\n",
    "lol =eval (input(\"second number:\"))\n",
    "li += lol\n",
    "lol =eval (input(\"third number:\"))\n",
    "li += lol\n",
    "print(f\"three plus together is:{li}\")"
   ]
  },
  {
   "cell_type": "code",
   "execution_count": 9,
   "metadata": {},
   "outputs": [
    {
     "data": {
      "text/plain": [
       "0.5235987755982989"
      ]
     },
     "execution_count": 9,
     "metadata": {},
     "output_type": "execute_result"
    }
   ],
   "source": [
    "import math\n",
    "r=eval(input(\"put one 對邊:\"))\n",
    "re=eval(input(\"put one 斜邊:\"))\n",
    "t = math.asin(r / re)\n",
    "t\n"
   ]
  },
  {
   "cell_type": "code",
   "execution_count": 10,
   "metadata": {},
   "outputs": [
    {
     "data": {
      "text/plain": [
       "3.141592653589793"
      ]
     },
     "execution_count": 10,
     "metadata": {},
     "output_type": "execute_result"
    }
   ],
   "source": [
    "math.pi"
   ]
  }
 ],
 "metadata": {
  "kernelspec": {
   "display_name": "Python 3",
   "language": "python",
   "name": "python3"
  },
  "language_info": {
   "codemirror_mode": {
    "name": "ipython",
    "version": 3
   },
   "file_extension": ".py",
   "mimetype": "text/x-python",
   "name": "python",
   "nbconvert_exporter": "python",
   "pygments_lexer": "ipython3",
   "version": "3.10.13"
  }
 },
 "nbformat": 4,
 "nbformat_minor": 2
}
