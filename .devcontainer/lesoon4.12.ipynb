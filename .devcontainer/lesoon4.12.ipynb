{
 "cells": [
  {
   "cell_type": "code",
   "execution_count": 1,
   "metadata": {},
   "outputs": [
    {
     "name": "stdout",
     "output_type": "stream",
     "text": [
      "[0,5,9,14]的標準差:5.94418483337567\n",
      "[5,6,8,9]的標準差:1.8257418583505538\n",
      "[0,5,9,14]的平均:7\n",
      "[5,6,8,9,]的平均:7\n"
     ]
    }
   ],
   "source": [
    "import statistics\n",
    "rty = statistics.stdev([0,5,9,14])\n",
    "print(f'[0,5,9,14]的標準差:{rty}')\n",
    "yui = statistics.stdev([5,6,8,9,])\n",
    "print(f'[5,6,8,9]的標準差:{yui}')\n",
    "hi = statistics.mean([0,5,9,14])\n",
    "print(f'[0,5,9,14]的平均:{hi}')\n",
    "hi1 = statistics.mean([5,6,8,9])\n",
    "print(f'[5,6,8,9,]的平均:{hi1}')\n"
   ]
  },
  {
   "cell_type": "code",
   "execution_count": 5,
   "metadata": {},
   "outputs": [
    {
     "name": "stdout",
     "output_type": "stream",
     "text": [
      "three plus together is:62\n"
     ]
    }
   ],
   "source": [
    "li =0\n",
    "lol =eval (input(\"first number:\"))\n",
    "li += lol\n",
    "lol =eval (input(\"second number:\"))\n",
    "li += lol\n",
    "lol =eval (input(\"third number:\"))\n",
    "li += lol\n",
    "print(f\"three plus together is:{li}\")\n",
    "\n"
   ]
  },
  {
   "cell_type": "code",
   "execution_count": 3,
   "metadata": {},
   "outputs": [
    {
     "name": "stdout",
     "output_type": "stream",
     "text": [
      "student score is52\n"
     ]
    }
   ],
   "source": [
    "score = int (input(\"type score(highest 300)\"))\n",
    "add = int(input(\"can student plus score?(y,n)\"))\n",
    " \n",
    "if ( add == \"y\"):\n",
    "    score *= 1.05\n",
    "\n",
    "print(f\"student score is{round(score)}\")    \n"
   ]
  }
 ],
 "metadata": {
  "kernelspec": {
   "display_name": "Python 3",
   "language": "python",
   "name": "python3"
  },
  "language_info": {
   "codemirror_mode": {
    "name": "ipython",
    "version": 3
   },
   "file_extension": ".py",
   "mimetype": "text/x-python",
   "name": "python",
   "nbconvert_exporter": "python",
   "pygments_lexer": "ipython3",
   "version": "3.10.13"
  }
 },
 "nbformat": 4,
 "nbformat_minor": 2
}
