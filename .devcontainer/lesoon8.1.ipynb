{
 "cells": [
  {
   "cell_type": "code",
   "execution_count": 4,
   "metadata": {},
   "outputs": [],
   "source": [
    "def area (top:int | float,\n",
    "          bottom:int | float =10,\n",
    "          height:int | float =10) ->float:\n",
    "    return(top+bottom) * height / 2.0"
   ]
  },
  {
   "cell_type": "code",
   "execution_count": 5,
   "metadata": {},
   "outputs": [
    {
     "data": {
      "text/plain": [
       "150.0"
      ]
     },
     "execution_count": 5,
     "metadata": {},
     "output_type": "execute_result"
    }
   ],
   "source": [
    "area(5)\n",
    "area(5,bottom=8)\n",
    "area(5,bottom=8,height=20)\n",
    "area(5,height=20,bottom=8)\n",
    "area(5,height=20)"
   ]
  },
  {
   "cell_type": "code",
   "execution_count": 7,
   "metadata": {},
   "outputs": [
    {
     "name": "stdout",
     "output_type": "stream",
     "text": [
      "1 2 a b 3.3\n",
      "1-2-a-b-3.3\n",
      "1-2-a-b-3.3,謝謝\n"
     ]
    }
   ],
   "source": [
    "print(1,2,'a','b',3.3)\n",
    "print(1,2,'a','b',3.3,sep=\"-\")\n",
    "print(1,2,'a','b',3.3,sep=\"-\",end=',謝謝\\n')"
   ]
  },
  {
   "cell_type": "code",
   "execution_count": 11,
   "metadata": {},
   "outputs": [],
   "source": [
    "def area (top:int | float,\n",
    "          bottom:int | float =10,\n",
    "          height:int | float =10) ->float:\n",
    "    return(top+bottom) * height / 2.0"
   ]
  },
  {
   "cell_type": "code",
   "execution_count": 12,
   "metadata": {},
   "outputs": [
    {
     "data": {
      "text/plain": [
       "394.485"
      ]
     },
     "execution_count": 12,
     "metadata": {},
     "output_type": "execute_result"
    }
   ],
   "source": [
    "al=area(3.57,bottom=34,height=21.0)\n",
    "al"
   ]
  },
  {
   "cell_type": "code",
   "execution_count": null,
   "metadata": {},
   "outputs": [],
   "source": []
  }
 ],
 "metadata": {
  "kernelspec": {
   "display_name": "Python 3",
   "language": "python",
   "name": "python3"
  },
  "language_info": {
   "codemirror_mode": {
    "name": "ipython",
    "version": 3
   },
   "file_extension": ".py",
   "mimetype": "text/x-python",
   "name": "python",
   "nbconvert_exporter": "python",
   "pygments_lexer": "ipython3",
   "version": "3.10.13"
  }
 },
 "nbformat": 4,
 "nbformat_minor": 2
}
