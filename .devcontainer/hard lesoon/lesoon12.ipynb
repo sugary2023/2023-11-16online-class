{
 "cells": [
  {
   "cell_type": "code",
   "execution_count": 1,
   "metadata": {},
   "outputs": [
    {
     "name": "stdout",
     "output_type": "stream",
     "text": [
      "hello world!\n"
     ]
    }
   ],
   "source": [
    "print(\"hello world!\")"
   ]
  },
  {
   "cell_type": "code",
   "execution_count": 15,
   "metadata": {},
   "outputs": [
    {
     "data": {
      "text/plain": [
       "['姓名', '科目1', '科目2', '科目3', '科目4', '科目5']"
      ]
     },
     "execution_count": 15,
     "metadata": {},
     "output_type": "execute_result"
    }
   ],
   "source": [
    "subjects = []\n",
    "for i in range(5):\n",
    "    subjects.append(f\"科目{i+1}\")\n",
    "names  = [\"姓名\"]\n",
    "names.extend(subjects)\n",
    "names"
   ]
  },
  {
   "cell_type": "code",
   "execution_count": null,
   "metadata": {},
   "outputs": [],
   "source": [
    "subjects = []\n",
    "for i in range(5):\n",
    "    subjects.append(f\"科目{i+1}\")\n",
    "names  = [\"姓名\"]\n",
    "names.extend(subjects)\n",
    "names"
   ]
  },
  {
   "cell_type": "code",
   "execution_count": 8,
   "metadata": {},
   "outputs": [
    {
     "name": "stdout",
     "output_type": "stream",
     "text": [
      "-------------------\n"
     ]
    }
   ],
   "source": [
    "stu1 = {\n",
    "    'Name':'Gary',\n",
    "    'Chinese':100,\n",
    "    'English':100,\n",
    "    'Math':96,\n",
    "    'GErogophy':97,\n",
    "    'History':95,\n",
    "}\n",
    "stu2 = {\n",
    "    'Name':'Cody',\n",
    "    'Chinese':91,\n",
    "    'English':85,\n",
    "    'Math':91,\n",
    "    'GErogophy':93,\n",
    "    'History':99,\n",
    "    }\n"
   ]
  },
  {
   "cell_type": "code",
   "execution_count": 9,
   "metadata": {},
   "outputs": [
    {
     "data": {
      "text/plain": [
       "[{'Name': 'Gary',\n",
       "  'Chinese': 100,\n",
       "  'English': 100,\n",
       "  'Math': 96,\n",
       "  'GErogophy': 97,\n",
       "  'History': 95},\n",
       " {'Name': 'Cody',\n",
       "  'Chinese': 91,\n",
       "  'English': 85,\n",
       "  'Math': 91,\n",
       "  'GErogophy': 93,\n",
       "  'History': 99}]"
      ]
     },
     "execution_count": 9,
     "metadata": {},
     "output_type": "execute_result"
    }
   ],
   "source": [
    "students = [stu1,stu2]\n",
    "students"
   ]
  },
  {
   "cell_type": "code",
   "execution_count": 5,
   "metadata": {},
   "outputs": [
    {
     "data": {
      "text/plain": [
       "[{'Name': 'Gary',\n",
       "  'Chinese': 37,\n",
       "  'English': 88,\n",
       "  'Math': 52,\n",
       "  'GErogophy': 48,\n",
       "  'History': 65},\n",
       " {'Name': 'Cody',\n",
       "  'Chinese': 93,\n",
       "  'English': 48,\n",
       "  'Math': 98,\n",
       "  'GErogophy': 13,\n",
       "  'History': 75}]"
      ]
     },
     "execution_count": 5,
     "metadata": {},
     "output_type": "execute_result"
    }
   ],
   "source": [
    "from random import randint\n",
    "def getStudents()->list[dict]:\n",
    "    students = []\n",
    "    names = ['Gary','Cody']\n",
    "    for i in range(2):\n",
    "        stu = {\n",
    "        'Name':names[i],\n",
    "        'Chinese':randint(0,100),\n",
    "        'English':randint(0,100),\n",
    "        'Math':randint(0,100),\n",
    "        'GErogophy':randint(0,100),\n",
    "        'History':randint(0,100),\n",
    "        }\n",
    "        students.append(stu)\n",
    "    return students\n",
    "getStudents()"
   ]
  }
 ],
 "metadata": {
  "kernelspec": {
   "display_name": "Python 3",
   "language": "python",
   "name": "python3"
  },
  "language_info": {
   "codemirror_mode": {
    "name": "ipython",
    "version": 3
   },
   "file_extension": ".py",
   "mimetype": "text/x-python",
   "name": "python",
   "nbconvert_exporter": "python",
   "pygments_lexer": "ipython3",
   "version": "3.10.13"
  }
 },
 "nbformat": 4,
 "nbformat_minor": 2
}
