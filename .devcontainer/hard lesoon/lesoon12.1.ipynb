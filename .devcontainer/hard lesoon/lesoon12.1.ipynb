{
 "cells": [
  {
   "cell_type": "code",
   "execution_count": 1,
   "metadata": {},
   "outputs": [],
   "source": [
    "import pyinputplus as pyip\n",
    "from random import randint,choices\n",
    "\n",
    "def getStudents(nums:int) -> list[dict]:  \n",
    "    students:list[dict] = []\n",
    "    with open('names.txt',mode='r',encoding='utf-8') as file:\n",
    "        names:str = file.read()\n",
    "    nameList:list[str] = names.split('\\n')\n",
    "    names:list[str] = choices(nameList,k=nums)\n",
    "    for i in range(nums):\n",
    "        stu = {\n",
    "        '姓名':names[i],\n",
    "        '國文':randint(45,100),\n",
    "        '英文':randint(45,100),\n",
    "        '數學':randint(45,100),\n",
    "        '地理':randint(45,100),\n",
    "        '歷史':randint(45,100),\n",
    "        }\n",
    "        students.append(stu)\n",
    "        \n",
    "    return students"
   ]
  },
  {
   "cell_type": "code",
   "execution_count": 2,
   "metadata": {},
   "outputs": [
    {
     "name": "stdout",
     "output_type": "stream",
     "text": [
      "請輸入學生人數(1~50):10\n"
     ]
    },
    {
     "data": {
      "text/plain": [
       "[{'姓名': '張慧君', '國文': 97, '英文': 45, '數學': 91, '地理': 100, '歷史': 61},\n",
       " {'姓名': '蔡明平', '國文': 56, '英文': 61, '數學': 94, '地理': 49, '歷史': 47},\n",
       " {'姓名': '鄧淑娟', '國文': 97, '英文': 46, '數學': 95, '地理': 100, '歷史': 60},\n",
       " {'姓名': '黃嘉琪', '國文': 99, '英文': 66, '數學': 54, '地理': 52, '歷史': 76},\n",
       " {'姓名': '聶心怡', '國文': 93, '英文': 75, '數學': 66, '地理': 68, '歷史': 95},\n",
       " {'姓名': '陳慧君', '國文': 81, '英文': 47, '數學': 46, '地理': 94, '歷史': 45},\n",
       " {'姓名': '林建宏', '國文': 86, '英文': 48, '數學': 72, '地理': 66, '歷史': 71},\n",
       " {'姓名': '蔡嘉音', '國文': 81, '英文': 55, '數學': 73, '地理': 78, '歷史': 72},\n",
       " {'姓名': '李慶亮', '國文': 58, '英文': 81, '數學': 83, '地理': 90, '歷史': 90},\n",
       " {'姓名': '郭淑枝', '國文': 66, '英文': 47, '數學': 99, '地理': 59, '歷史': 93}]"
      ]
     },
     "execution_count": 2,
     "metadata": {},
     "output_type": "execute_result"
    }
   ],
   "source": [
    "import pyinputplus as pyip\n",
    "a_nums:int = pyip.inputInt(\"請輸入學生人數(1~50):\",min=1,max=50)\n",
    "print(a_nums)\n",
    "studs = getStudents(a_nums)\n",
    "studs"
   ]
  },
  {
   "cell_type": "code",
   "execution_count": 8,
   "metadata": {},
   "outputs": [
    {
     "name": "stdout",
     "output_type": "stream",
     "text": [
      "寫入成功\n"
     ]
    }
   ],
   "source": [
    "import csv\n",
    "with open(\"class1.csv\",mode='w',encoding='utf-8',newline='') as file:\n",
    "    fieldnames = ['姓名', '國文', '英文', '數學', '地理', '歷史']\n",
    "    writer = csv.DictWriter(file,fieldnames=fieldnames)\n",
    "    writer.writeheader()\n",
    "    writer.writerows(studs)\n",
    "print(\"寫入成功\")"
   ]
  }
 ],
 "metadata": {
  "kernelspec": {
   "display_name": "Python 3",
   "language": "python",
   "name": "python3"
  },
  "language_info": {
   "codemirror_mode": {
    "name": "ipython",
    "version": 3
   },
   "file_extension": ".py",
   "mimetype": "text/x-python",
   "name": "python",
   "nbconvert_exporter": "python",
   "pygments_lexer": "ipython3",
   "version": "3.10.13"
  }
 },
 "nbformat": 4,
 "nbformat_minor": 2
}
