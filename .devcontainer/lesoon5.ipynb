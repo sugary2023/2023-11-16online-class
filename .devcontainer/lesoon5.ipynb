{
 "cells": [
  {
   "cell_type": "code",
   "execution_count": 1,
   "metadata": {},
   "outputs": [
    {
     "name": "stdout",
     "output_type": "stream",
     "text": [
      "hello world\n"
     ]
    }
   ],
   "source": [
    "print(\"hello world\")\n",
    "      "
   ]
  },
  {
   "cell_type": "code",
   "execution_count": 1,
   "metadata": {},
   "outputs": [
    {
     "name": "stdout",
     "output_type": "stream",
     "text": [
      "well done\n"
     ]
    }
   ],
   "source": [
    "print(\"well done\")"
   ]
  },
  {
   "cell_type": "code",
   "execution_count": 27,
   "metadata": {},
   "outputs": [
    {
     "name": "stdout",
     "output_type": "stream",
     "text": [
      "have question\n",
      "done\n"
     ]
    }
   ],
   "source": [
    "#處理raise Exception\n",
    "try:\n",
    "    money = eval(input(\"price:\"))\n",
    "    print(money)\n",
    "except:\n",
    "    print(\"have question\")  \n",
    "\n",
    "print(\"done\")      "
   ]
  },
  {
   "cell_type": "code",
   "execution_count": 4,
   "metadata": {},
   "outputs": [
    {
     "name": "stdout",
     "output_type": "stream",
     "text": [
      "price have question\n",
      "done\n"
     ]
    }
   ],
   "source": [
    "#處理raise Exception\n",
    "try:\n",
    "    money = int(input(\"price:\"))\n",
    "    f1 = eval(\"type float:\")\n",
    "    raise KeyboardInterrupt\n",
    "    print(money)    \n",
    "except SyntaxError:\n",
    "    print(\"type float have question\")  \n",
    "except ValueError:\n",
    "    print(\"price have question\")  \n",
    "except:\n",
    "    print(\"IDK error\")        \n",
    "    \n",
    "\n",
    "print(\"done\")      "
   ]
  },
  {
   "cell_type": "code",
   "execution_count": null,
   "metadata": {},
   "outputs": [],
   "source": [
    "import pyinputplus as pyip"
   ]
  }
 ],
 "metadata": {
  "kernelspec": {
   "display_name": "Python 3",
   "language": "python",
   "name": "python3"
  },
  "language_info": {
   "codemirror_mode": {
    "name": "ipython",
    "version": 3
   },
   "file_extension": ".py",
   "mimetype": "text/x-python",
   "name": "python",
   "nbconvert_exporter": "python",
   "pygments_lexer": "ipython3",
   "version": "3.10.13"
  }
 },
 "nbformat": 4,
 "nbformat_minor": 2
}
