{
 "cells": [
  {
   "cell_type": "code",
   "execution_count": 2,
   "metadata": {},
   "outputs": [],
   "source": [
    "import matplotlib.pyplot as plt\n",
    "from matplotlib.font_manager import FontProperties\n",
    "#windos\n",
    "#font=FontProperties(fname=r'c:\\windows\\fonts\\simsun.ttc',size=8)\n",
    "#mac\n",
    "#font=FontProperties(fname='/Library/Fonts/Arial Unicode.ttf',size=8)\n",
    "#codespace\n",
    "font=FontProperties(fname='/usr/share/fonts/truetype/wqy/wqy-zenhei.ttc',size=8)"
   ]
  }
 ],
 "metadata": {
  "kernelspec": {
   "display_name": "Python 3",
   "language": "python",
   "name": "python3"
  },
  "language_info": {
   "codemirror_mode": {
    "name": "ipython",
    "version": 3
   },
   "file_extension": ".py",
   "mimetype": "text/x-python",
   "name": "python",
   "nbconvert_exporter": "python",
   "pygments_lexer": "ipython3",
   "version": "3.10.13"
  }
 },
 "nbformat": 4,
 "nbformat_minor": 2
}
