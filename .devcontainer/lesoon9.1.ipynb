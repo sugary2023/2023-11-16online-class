{
 "cells": [
  {
   "cell_type": "code",
   "execution_count": 17,
   "metadata": {},
   "outputs": [
    {
     "name": "stdout",
     "output_type": "stream",
     "text": [
      "執行初始化\n",
      "蘇子滕\n",
      "11\n",
      "--------\n",
      "執行初始化\n",
      "王暄睿\n",
      "11\n"
     ]
    }
   ],
   "source": [
    "#自訂初始化\n",
    "class Person:\n",
    "    def __init__(self,n,a):\n",
    "        self.name = n\n",
    "        self.age = a\n",
    "        print(\"執行初始化\")\n",
    "p1 = Person(\"蘇子滕\",11)\n",
    "print(p1.name)\n",
    "print(p1.age)\n",
    "print('--------')\n",
    "p2 = Person(\"王暄睿\",11)\n",
    "print(p2.name)\n",
    "print(p2.age)"
   ]
  },
  {
   "cell_type": "code",
   "execution_count": 19,
   "metadata": {},
   "outputs": [],
   "source": [
    "class Student:\n",
    "    def __init__(self,n,c,e,m):\n",
    "        self.name = n\n",
    "        self.chinese = c\n",
    "        self.english = e\n",
    "        self.math = m"
   ]
  },
  {
   "cell_type": "code",
   "execution_count": 20,
   "metadata": {},
   "outputs": [
    {
     "name": "stdout",
     "output_type": "stream",
     "text": [
      "小人\n",
      "65\n",
      "69\n",
      "100\n"
     ]
    }
   ],
   "source": [
    "stu1 = Student(\"小人\",65,69,100)\n",
    "print(stu1.name)\n",
    "print(stu1.chinese)\n",
    "print(stu1.english)\n",
    "print(stu1.math)"
   ]
  }
 ],
 "metadata": {
  "kernelspec": {
   "display_name": "Python 3",
   "language": "python",
   "name": "python3"
  },
  "language_info": {
   "codemirror_mode": {
    "name": "ipython",
    "version": 3
   },
   "file_extension": ".py",
   "mimetype": "text/x-python",
   "name": "python",
   "nbconvert_exporter": "python",
   "pygments_lexer": "ipython3",
   "version": "3.10.13"
  }
 },
 "nbformat": 4,
 "nbformat_minor": 2
}
