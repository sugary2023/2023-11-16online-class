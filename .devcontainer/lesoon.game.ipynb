{
 "cells": [
  {
   "cell_type": "code",
   "execution_count": 3,
   "metadata": {},
   "outputs": [
    {
     "name": "stdout",
     "output_type": "stream",
     "text": [
      "=========猜數字遊戲=========\n",
      "猜數字範圍1~100:50\n",
      "再大一點\n",
      "您已經猜了1次\n",
      "============\n",
      "猜數字範圍51~100:75\n",
      "再小一點\n",
      "您已經猜了2次\n",
      "============\n",
      "猜數字範圍51~74:65\n",
      "再大一點\n",
      "您已經猜了3次\n",
      "============\n",
      "猜數字範圍66~74:70\n",
      "再小一點\n",
      "您已經猜了4次\n",
      "============\n",
      "猜數字範圍66~69:71\n",
      "再小一點\n",
      "您已經猜了5次\n",
      "============\n",
      "猜數字範圍66~70:64\n",
      "再大一點\n",
      "您已經猜了6次\n",
      "============\n",
      "猜數字範圍65~70:69\n",
      "Bingo! Answer is:69\n",
      "您猜了7次\n",
      "遊戲結束\n"
     ]
    }
   ],
   "source": [
    "import pyinputplus as pyip\n",
    "import random\n",
    "min = 1\n",
    "max = 100\n",
    "count = 0\n",
    "random_number=random.randint(min,max)\n",
    "print(\"=========猜數字遊戲=========\")\n",
    "while True:\n",
    "    keyin = pyip.inputInt(f\"猜數字範圍{min}~{max}:\")\n",
    "    count += 1\n",
    "    print(keyin)\n",
    "    if keyin == random_number:\n",
    "        print(f\"Bingo! Answer is:{random_number}\")\n",
    "        print(f\"您猜了{count}次\")\n",
    "        break\n",
    "    elif keyin > random_number:\n",
    "        print(\"再小一點\")\n",
    "        max = keyin - 1\n",
    "    elif keyin < random_number:\n",
    "        print(\"再大一點\")\n",
    "        min = keyin + 1\n",
    "    print(f\"您已經猜了{count}次\")   \n",
    "    print(\"============\")     \n",
    "print(\"遊戲結束\")    "
   ]
  }
 ],
 "metadata": {
  "kernelspec": {
   "display_name": "Python 3",
   "language": "python",
   "name": "python3"
  },
  "language_info": {
   "codemirror_mode": {
    "name": "ipython",
    "version": 3
   },
   "file_extension": ".py",
   "mimetype": "text/x-python",
   "name": "python",
   "nbconvert_exporter": "python",
   "pygments_lexer": "ipython3",
   "version": "3.10.13"
  }
 },
 "nbformat": 4,
 "nbformat_minor": 2
}
