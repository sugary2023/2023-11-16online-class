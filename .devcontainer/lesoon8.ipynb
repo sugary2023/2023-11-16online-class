{
 "cells": [
  {
   "cell_type": "code",
   "execution_count": 1,
   "metadata": {},
   "outputs": [
    {
     "name": "stdout",
     "output_type": "stream",
     "text": [
      "hello world\n"
     ]
    }
   ],
   "source": [
    "print(\"hello world\")"
   ]
  },
  {
   "cell_type": "code",
   "execution_count": 1,
   "metadata": {},
   "outputs": [
    {
     "name": "stdout",
     "output_type": "stream",
     "text": [
      "w格式錯誤\n",
      "5的平方是:25\n",
      "不做任何事\n",
      "9的平方是:81\n",
      "7的平方是:49\n",
      "程式結束\n"
     ]
    }
   ],
   "source": [
    "while(True):\n",
    "    a=input(\"請輸入整數，輸入'q','Q','quit','Quit','QUIT'離開:\")\n",
    "    if(a==\"q\" or a==\"Q\" or a==\"quit\" or a==\"Quit\" or a==\"QUIT\"):\n",
    "        break\n",
    "\n",
    "    try:\n",
    "        a=int(a)\n",
    "    except:\n",
    "        print(f\"{a}格式錯誤\")\n",
    "        continue\n",
    "    \n",
    "    if(a%2==1):\n",
    "        print(f\"{a}的平方是:{a**2}\")\n",
    "    else:\n",
    "        print(\"不做任何事\")\n",
    "\n",
    "print(\"程式結束\")"
   ]
  },
  {
   "cell_type": "code",
   "execution_count": 2,
   "metadata": {},
   "outputs": [
    {
     "data": {
      "text/plain": [
       "4"
      ]
     },
     "execution_count": 2,
     "metadata": {},
     "output_type": "execute_result"
    }
   ],
   "source": []
  }
 ],
 "metadata": {
  "kernelspec": {
   "display_name": "Python 3",
   "language": "python",
   "name": "python3"
  },
  "language_info": {
   "codemirror_mode": {
    "name": "ipython",
    "version": 3
   },
   "file_extension": ".py",
   "mimetype": "text/x-python",
   "name": "python",
   "nbconvert_exporter": "python",
   "pygments_lexer": "ipython3",
   "version": "3.10.13"
  }
 },
 "nbformat": 4,
 "nbformat_minor": 2
}
