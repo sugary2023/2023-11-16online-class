{
 "cells": [
  {
   "cell_type": "code",
   "execution_count": 1,
   "metadata": {},
   "outputs": [
    {
     "data": {
      "text/plain": [
       "(5, 8)"
      ]
     },
     "execution_count": 1,
     "metadata": {},
     "output_type": "execute_result"
    }
   ],
   "source": [
    "(5,8)"
   ]
  },
  {
   "cell_type": "code",
   "execution_count": 4,
   "metadata": {},
   "outputs": [
    {
     "name": "stdout",
     "output_type": "stream",
     "text": [
      "許國堂\n",
      "98\n"
     ]
    }
   ],
   "source": [
    "#tumple\n",
    "(score,name)=(98,'許國堂')\n",
    "print(name)\n",
    "print(score)"
   ]
  },
  {
   "cell_type": "code",
   "execution_count": 5,
   "metadata": {},
   "outputs": [
    {
     "name": "stdout",
     "output_type": "stream",
     "text": [
      "許國堂\n",
      "98\n"
     ]
    }
   ],
   "source": [
    "#tumple\n",
    "score,name=98,'許國堂'\n",
    "print(name)\n",
    "print(score)"
   ]
  },
  {
   "cell_type": "code",
   "execution_count": 1,
   "metadata": {},
   "outputs": [
    {
     "name": "stdout",
     "output_type": "stream",
     "text": [
      "請輸入身高，單位為公分:"
     ]
    },
    {
     "name": "stdout",
     "output_type": "stream",
     "text": [
      "158.0\n",
      "請輸入體重，單位為公斤:40.6\n",
      "\n",
      "您的BMI是16.26342\n",
      "「您的體重過輕」\n"
     ]
    }
   ],
   "source": [
    "import pyinputplus as pyip\n",
    "height = pyip.inputFloat(\"請輸入身高，單位為公分:\",min = 0)\n",
    "print(height)\n",
    "weight = pyip.inputFloat(\"請輸入體重，單位為公斤:\",min = 0)\n",
    "print(weight)\n",
    "BMI = weight / (height*0.01)**2\n",
    "if BMI < 18.5:\n",
    "    print(f\"\\n您的BMI是{BMI:.5f}\\n「您的體重過輕」\")\n",
    "elif BMI < 24:\n",
    "    print(f\"\\n您的BMI是{BMI:.5f}\\n「您的體重正常」\")\n",
    "elif BMI < 27:\n",
    "    print(f\"\\n您的BMI是{BMI:.5f}\\n「您的體重過重」\")\n",
    "elif BMI < 30:\n",
    "    print(f\"\\n您的BMI是{BMI:.5f}\\n「您的體重輕度肥胖」\")\n",
    "elif BMI < 35:\n",
    "    print(f\"\\n您的BMI是{BMI:.5f}\\n「您的體重中度肥胖」\")\n",
    "else:\n",
    "    print(f\"\\n您的BMI是{BMI:.5f}\\n「您的體重重度肥胖」\")"
   ]
  },
  {
   "cell_type": "code",
   "execution_count": 2,
   "metadata": {},
   "outputs": [
    {
     "name": "stdout",
     "output_type": "stream",
     "text": [
      "請輸入身高，單位為公分:158.0\n",
      "請輸入體重，單位為公斤:40.6\n",
      "您的BMI是16.26,「您的體重過輕」\n",
      "請問還要繼續嗎?(y,n)no\n",
      "程式結束\n"
     ]
    }
   ],
   "source": [
    "import pyinputplus as pyip\n",
    "\n",
    "def getBMI(height:float, weight:float) -> tuple[float,str]:\n",
    "    BMI = weight / (height*0.01)**2\n",
    "    message = \"\"\n",
    "    if BMI < 18.5:\n",
    "        message = \"「您的體重過輕」\"\n",
    "    elif BMI < 24:        \n",
    "        message = \"「您的體重正常」\"\n",
    "    \n",
    "    elif BMI < 27:        \n",
    "        message = \"「您的體重過重」\"\n",
    "\n",
    "    elif BMI < 30:        \n",
    "        message = \"「您的體重輕度肥胖」\"\n",
    "\n",
    "    elif BMI < 35:        \n",
    "        message = \"「您的體重中度肥胖」\"\n",
    "\n",
    "    else:        \n",
    "        message = \"「您的體重重度肥胖」\"\n",
    "\n",
    "    return (BMI,message) \n",
    "while(True):\n",
    "    h = pyip.inputFloat(\"請輸入身高，單位為公分:\",min = 0)\n",
    "    print(h)\n",
    "    w = pyip.inputFloat(\"請輸入體重，單位為公斤:\",min = 0)\n",
    "    print(w)\n",
    "    bmi, message = getBMI(height=h,weight=w)\n",
    "    print(f\"您的BMI是{bmi:.2f},{message}\")\n",
    "\n",
    "\n",
    "    check = pyip.inputYesNo(\"請問還要繼續嗎?(y,n)\")\n",
    "    print(check)\n",
    "    if (check == \"no\"):\n",
    "        break\n",
    "print(\"程式結束\") \n"
   ]
  }
 ],
 "metadata": {
  "kernelspec": {
   "display_name": "Python 3",
   "language": "python",
   "name": "python3"
  },
  "language_info": {
   "codemirror_mode": {
    "name": "ipython",
    "version": 3
   },
   "file_extension": ".py",
   "mimetype": "text/x-python",
   "name": "python",
   "nbconvert_exporter": "python",
   "pygments_lexer": "ipython3",
   "version": "3.10.13"
  }
 },
 "nbformat": 4,
 "nbformat_minor": 2
}
