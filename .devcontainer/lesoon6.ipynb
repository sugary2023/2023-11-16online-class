{
 "cells": [
  {
   "cell_type": "code",
   "execution_count": 1,
   "metadata": {},
   "outputs": [
    {
     "name": "stdout",
     "output_type": "stream",
     "text": [
      "hello world\n"
     ]
    }
   ],
   "source": [
    "print(\"hello world\")"
   ]
  },
  {
   "cell_type": "code",
   "execution_count": 16,
   "metadata": {},
   "outputs": [
    {
     "name": "stdout",
     "output_type": "stream",
     "text": [
      "student score(1~100):8\n",
      "D\n"
     ]
    }
   ],
   "source": [
    "import pyinputplus as pyip\n",
    "score=pyip.inputInt(\"student score(1~100):\",min=0,max=100)\n",
    "print(score)\n",
    "if score >= 90:\n",
    "    print(\"great\")\n",
    "elif score >= 80:\n",
    "    print(\"A\")\n",
    "elif score >= 70 :\n",
    "    print(\"B\")\n",
    "elif score >= 60:\n",
    "    print(\"C\")   \n",
    "else:\n",
    "    print(\"D\")      "
   ]
  },
  {
   "cell_type": "code",
   "execution_count": 17,
   "metadata": {},
   "outputs": [
    {
     "name": "stdout",
     "output_type": "stream",
     "text": [
      "成年\n"
     ]
    }
   ],
   "source": [
    "age = 18\n",
    "if not age >=18:\n",
    "    print(\"未成年\")\n",
    "else:\n",
    "     print(\"成年\")"
   ]
  },
  {
   "cell_type": "code",
   "execution_count": 4,
   "metadata": {},
   "outputs": [
    {
     "name": "stdout",
     "output_type": "stream",
     "text": [
      "put Chinese score:90\n",
      "put math score:90\n",
      "獎金:0\n"
     ]
    }
   ],
   "source": [
    "import pyinputplus as pyip\n",
    "chinese = pyip.inputInt(\"put Chinese score:\",min= 0 ,max=100)\n",
    "print(chinese)\n",
    "math = pyip.inputInt(\"put math score:\",min=0,max=100)\n",
    "print(math)\n",
    "if chinese == 100:\n",
    "    if math == 100:\n",
    "        bonus = 1000\n",
    "    else:\n",
    "        bonus = 500\n",
    "elif math ==100:\n",
    "    bonus = 500\n",
    "else:\n",
    "    bonus = 0     \n",
    "print(f\"獎金:{bonus}\")      "
   ]
  },
  {
   "cell_type": "code",
   "execution_count": 5,
   "metadata": {},
   "outputs": [
    {
     "name": "stdout",
     "output_type": "stream",
     "text": [
      "put Chinese score:Number must be at maximum 100.\n",
      "put Chinese score:Number must be at maximum 100.\n",
      "put Chinese score:Number must be at maximum 100.\n",
      "put Chinese score:45\n",
      "put math score:45\n",
      "獎金:500\n"
     ]
    }
   ],
   "source": [
    "import pyinputplus as pyip\n",
    "chinese = pyip.inputInt(\"put Chinese score:\",min= 0 ,max=100)\n",
    "print(chinese)\n",
    "math = pyip.inputInt(\"put math score:\",min=0,max=100)\n",
    "print(math)\n",
    "if chinese == 100 and math == 100 :\n",
    "    bonus = 1000\n",
    "elif chinese or math ==100:\n",
    "    bonus = 500\n",
    "else:\n",
    "    bonus = 0     \n",
    "print(f\"獎金:{bonus}\")     "
   ]
  }
 ],
 "metadata": {
  "kernelspec": {
   "display_name": "Python 3",
   "language": "python",
   "name": "python3"
  },
  "language_info": {
   "codemirror_mode": {
    "name": "ipython",
    "version": 3
   },
   "file_extension": ".py",
   "mimetype": "text/x-python",
   "name": "python",
   "nbconvert_exporter": "python",
   "pygments_lexer": "ipython3",
   "version": "3.10.13"
  }
 },
 "nbformat": 4,
 "nbformat_minor": 2
}
