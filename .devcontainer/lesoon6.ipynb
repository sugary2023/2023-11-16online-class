{
 "cells": [
  {
   "cell_type": "code",
   "execution_count": 1,
   "metadata": {},
   "outputs": [
    {
     "name": "stdout",
     "output_type": "stream",
     "text": [
      "hello world\n"
     ]
    }
   ],
   "source": [
    "print(\"hello world\")"
   ]
  },
  {
   "cell_type": "code",
   "execution_count": 16,
   "metadata": {},
   "outputs": [
    {
     "name": "stdout",
     "output_type": "stream",
     "text": [
      "student score(1~100):8\n",
      "D\n"
     ]
    }
   ],
   "source": [
    "import pyinputplus as pyip\n",
    "score=pyip.inputInt(\"student score(1~100):\",min=0,max=100)\n",
    "print(score)\n",
    "if score >= 90:\n",
    "    print(\"great\")\n",
    "elif score >= 80:\n",
    "    print(\"A\")\n",
    "elif score >= 70 :\n",
    "    print(\"B\")\n",
    "elif score >= 60:\n",
    "    print(\"C\")   \n",
    "else:\n",
    "    print(\"D\")      "
   ]
  },
  {
   "cell_type": "code",
   "execution_count": null,
   "metadata": {},
   "outputs": [],
   "source": [
    "import pyinputplus as pyip\n"
   ]
  }
 ],
 "metadata": {
  "kernelspec": {
   "display_name": "Python 3",
   "language": "python",
   "name": "python3"
  },
  "language_info": {
   "codemirror_mode": {
    "name": "ipython",
    "version": 3
   },
   "file_extension": ".py",
   "mimetype": "text/x-python",
   "name": "python",
   "nbconvert_exporter": "python",
   "pygments_lexer": "ipython3",
   "version": "3.10.13"
  }
 },
 "nbformat": 4,
 "nbformat_minor": 2
}
