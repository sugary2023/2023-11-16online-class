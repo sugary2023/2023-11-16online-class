{
 "cells": [
  {
   "cell_type": "code",
   "execution_count": 2,
   "metadata": {},
   "outputs": [],
   "source": [
    "from openpyxl import Workbook\n",
    "wb = Workbook()\n",
    "ws = wb.active\n",
    "treeData = [[\"Type\", \"Leaf Color\", \"Height\"], [\"Maple\", \"Red\", 549], [\"Oak\", \"Green\", 783], [\"Pine\", \"Green\", 1204]]\n",
    "for row in treeData:\n",
    "    ws.append(row)\n",
    "wb.save(\"Treedata.xlsx\")"
   ]
  },
  {
   "cell_type": "code",
   "execution_count": 3,
   "metadata": {},
   "outputs": [],
   "source": [
    "from openpyxl import Workbook\n",
    "wb = Workbook()\n",
    "ws = wb.active\n",
    "ws.title=\"6年6班\"\n",
    "ws['A1'] = \"學生姓名\"\n",
    "ws['B1'] = \"國文\"\n",
    "ws['C1'] = \"英文\"\n",
    "ws['D1'] = \"數學\"\n",
    "ws['E1'] = \"地理\"\n",
    "ws['F1'] = \"歷史\"\n",
    "ws.append(['Cody',100,96,94,91,89])\n",
    "ws.append(['Leo',85,100,99,78,100])\n",
    "ws.append(['Gary',100,100,93,89,100])\n",
    "ws.append(['Jobo',96,78,100,63,89])\n",
    "ws.append(['Tim',100,87,100,91,93])\n",
    "ws1 = wb.create_sheet(\"6年6班.xlsx\")\n",
    "wb.save(\"6年6班.xlsx\")"
   ]
  }
 ],
 "metadata": {
  "kernelspec": {
   "display_name": "Python 3",
   "language": "python",
   "name": "python3"
  },
  "language_info": {
   "codemirror_mode": {
    "name": "ipython",
    "version": 3
   },
   "file_extension": ".py",
   "mimetype": "text/x-python",
   "name": "python",
   "nbconvert_exporter": "python",
   "pygments_lexer": "ipython3",
   "version": "3.10.13"
  }
 },
 "nbformat": 4,
 "nbformat_minor": 2
}
